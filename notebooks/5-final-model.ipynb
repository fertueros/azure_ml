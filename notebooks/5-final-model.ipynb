{
 "cells": [
  {
   "cell_type": "markdown",
   "id": "f0c39c22-1340-46f2-ae23-a0343ab94b8d",
   "metadata": {},
   "source": [
    "## Modelando con toda la data y mejores parametros"
   ]
  },
  {
   "cell_type": "code",
   "execution_count": 6,
   "id": "42c86eec-02e3-40bd-ab9d-d71d760f91c3",
   "metadata": {},
   "outputs": [],
   "source": [
    "import pandas as pd\n",
    "import json\n",
    "from pathlib import Path\n",
    "import mlflow\n",
    "\n",
    "# Importar nuestras funciones personalizadas\n",
    "from package_ml.modeling.train import train_final_model\n",
    "from package_ml.modeling.predict import make_predictions, evaluate_model_on_test_set"
   ]
  },
  {
   "cell_type": "code",
   "execution_count": 7,
   "id": "6ab28f4f-6755-45cc-944d-b8370e1e5e55",
   "metadata": {},
   "outputs": [],
   "source": [
    "# --- Definición de Rutas y Constantes ---\n",
    "DATA_DIR = Path('../data/interim')\n",
    "MODELS_DIR = Path('../models')\n",
    "REPORTS_DIR = Path('../reports')\n",
    "\n",
    "TARGET = \"Calories\""
   ]
  },
  {
   "cell_type": "code",
   "execution_count": 8,
   "id": "400e38a0-7e5d-4b27-ba0a-974c1b54e5fc",
   "metadata": {},
   "outputs": [],
   "source": [
    "# Cargar datos de entrenamiento\n",
    "df_train = pd.read_parquet(DATA_DIR / 'train_fe.parquet')\n",
    "\n",
    "# Cargar la lista de características seleccionadas\n",
    "with open(MODELS_DIR / 'final_features.json', 'r') as f:\n",
    "    final_features = json.load(f)\n",
    "\n",
    "# Cargar los mejores hiperparámetros\n",
    "with open(MODELS_DIR / 'best_lgbm_params.json', 'r') as f:\n",
    "    best_params = json.load(f)\n",
    "\n",
    "# Preparar datos de entrenamiento\n",
    "X_train = df_train[final_features]\n",
    "y_train = df_train[TARGET]"
   ]
  },
  {
   "cell_type": "code",
   "execution_count": 9,
   "id": "fdb5d9df-a7fc-4c01-b7c9-084f5fbb6059",
   "metadata": {},
   "outputs": [
    {
     "name": "stdout",
     "output_type": "stream",
     "text": [
      "--- Entrenando el modelo final con todos los datos de entrenamiento... ---\n",
      "Modelo final entrenado y guardado en: ../models/final_lgbm_model.joblib\n"
     ]
    }
   ],
   "source": [
    "# Definimos la ruta donde se guardará el modelo de producción\n",
    "final_model_path = MODELS_DIR / 'final_lgbm_model.joblib'\n",
    "\n",
    "# Llamar a la función de entrenamiento\n",
    "train_final_model(X_train, y_train, best_params, final_model_path)"
   ]
  },
  {
   "cell_type": "code",
   "execution_count": null,
   "id": "f14a6861-db3d-4711-bb8b-5dadad3b756f",
   "metadata": {},
   "outputs": [],
   "source": []
  },
  {
   "cell_type": "markdown",
   "id": "d416191b-d83e-433b-a895-b65bcac0684a",
   "metadata": {},
   "source": [
    "## Realizando la prediccion sobre data no vista"
   ]
  },
  {
   "cell_type": "code",
   "execution_count": 10,
   "id": "20ca9a4a-7734-4556-894d-8fd1a8ed0d91",
   "metadata": {},
   "outputs": [
    {
     "name": "stdout",
     "output_type": "stream",
     "text": [
      "--- Cargando modelo desde ../models/final_lgbm_model.joblib para realizar predicciones... ---\n",
      "--- Evaluando el rendimiento del modelo en el conjunto de prueba... ---\n",
      "Resultados en datos no vistos: {'rmse_test': 3.4070282641499783, 'mae_test': 2.1193435668310907, 'r2_test': 0.9969150808977788}\n"
     ]
    }
   ],
   "source": [
    "# 1. Cargar los datos de prueba\n",
    "df_test = pd.read_parquet(DATA_DIR / 'test_fe.parquet')\n",
    "\n",
    "# 2. Preparar datos de prueba\n",
    "X_test = df_test[final_features]  # Asegurarse de usar LAS MISMAS features\n",
    "y_test = df_test[TARGET]\n",
    "\n",
    "# 3. Realizar predicciones\n",
    "predictions = make_predictions(X_test, final_model_path)\n",
    "\n",
    "# 4. Evaluar las predicciones y obtener las métricas\n",
    "test_metrics = evaluate_model_on_test_set(y_test, predictions)"
   ]
  },
  {
   "cell_type": "markdown",
   "id": "a20c14a0-a147-4e01-b2c2-bc5d84ae2e22",
   "metadata": {},
   "source": [
    "## Conclusion de la evaluación final"
   ]
  },
  {
   "cell_type": "code",
   "execution_count": 1,
   "id": "b1ccee7e-a5af-4989-bf8f-bed7a76252e0",
   "metadata": {},
   "outputs": [
    {
     "ename": "SyntaxError",
     "evalue": "invalid decimal literal (1887218076.py, line 3)",
     "output_type": "error",
     "traceback": [
      "  \u001b[36mCell\u001b[39m\u001b[36m \u001b[39m\u001b[32mIn[1]\u001b[39m\u001b[32m, line 3\u001b[39m\n\u001b[31m    \u001b[39m\u001b[31m- **RMSE en Validación Cruzada (Optuna, 200k datos):** `3.66`\u001b[39m\n                                              ^\n\u001b[31mSyntaxError\u001b[39m\u001b[31m:\u001b[39m invalid decimal literal\n"
     ]
    }
   ],
   "source": [
    "El modelo final se evaluó en un conjunto de datos de prueba completamente nuevo para verificar su capacidad de generalización.\n",
    "\n",
    "- **RMSE en Validación Cruzada (Optuna, 200k datos):** `3.66`\n",
    "- **RMSE en el Conjunto de Prueba:** `3.40`\n",
    "\n",
    "**Análisis de Resultados:**\n",
    "El rendimiento en el conjunto de prueba es excelente y consistente con el obtenido durante la validación cruzada.\n",
    "\n",
    "El RMSE final de **3.40 calorías** representa una estimación fiable del error esperado del modelo en producción. El modelo se considera robusto y listo para su despliegue."
   ]
  }
 ],
 "metadata": {
  "kernelspec": {
   "display_name": "Python 3 (ipykernel)",
   "language": "python",
   "name": "python3"
  },
  "language_info": {
   "codemirror_mode": {
    "name": "ipython",
    "version": 3
   },
   "file_extension": ".py",
   "mimetype": "text/x-python",
   "name": "python",
   "nbconvert_exporter": "python",
   "pygments_lexer": "ipython3",
   "version": "3.11.13"
  }
 },
 "nbformat": 4,
 "nbformat_minor": 5
}
