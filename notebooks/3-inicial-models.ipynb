{
 "cells": [
  {
   "cell_type": "code",
   "execution_count": 1,
   "id": "84405996-49d0-46d5-8b35-10e0723b34f8",
   "metadata": {},
   "outputs": [
    {
     "name": "stderr",
     "output_type": "stream",
     "text": [
      "\u001b[32m2025-06-20 11:19:20.201\u001b[0m | \u001b[1mINFO    \u001b[0m | \u001b[36mpackage_ml.config\u001b[0m:\u001b[36m<module>\u001b[0m:\u001b[36m11\u001b[0m - \u001b[1mPROJ_ROOT path is: /home/fernando/Documentos/azure_ml\u001b[0m\n"
     ]
    }
   ],
   "source": [
    "import pandas as pd\n",
    "import mlflow\n",
    "from pathlib import Path\n",
    "\n",
    "# funciones personalizadas\n",
    "from package_ml.modeling.baseline import train_baselines_with_mlflow"
   ]
  },
  {
   "cell_type": "code",
   "execution_count": 2,
   "id": "9d9450d1-d7a1-4e71-a8ee-3ac20c01f37e",
   "metadata": {},
   "outputs": [],
   "source": [
    "df = pd.read_parquet('../data/interim/train_fe.parquet')"
   ]
  },
  {
   "cell_type": "code",
   "execution_count": 3,
   "id": "d5b5aaeb-acd7-4c2f-864e-e0030425b8af",
   "metadata": {},
   "outputs": [
    {
     "data": {
      "text/html": [
       "<div>\n",
       "<style scoped>\n",
       "    .dataframe tbody tr th:only-of-type {\n",
       "        vertical-align: middle;\n",
       "    }\n",
       "\n",
       "    .dataframe tbody tr th {\n",
       "        vertical-align: top;\n",
       "    }\n",
       "\n",
       "    .dataframe thead th {\n",
       "        text-align: right;\n",
       "    }\n",
       "</style>\n",
       "<table border=\"1\" class=\"dataframe\">\n",
       "  <thead>\n",
       "    <tr style=\"text-align: right;\">\n",
       "      <th></th>\n",
       "      <th>User_ID</th>\n",
       "      <th>Gender</th>\n",
       "      <th>Age</th>\n",
       "      <th>Height</th>\n",
       "      <th>Weight</th>\n",
       "      <th>Duration</th>\n",
       "      <th>Heart_Rate</th>\n",
       "      <th>Body_Temp</th>\n",
       "      <th>Calories</th>\n",
       "      <th>Age_x_Height</th>\n",
       "      <th>...</th>\n",
       "      <th>Pct_FCMT_sq</th>\n",
       "      <th>Pct_FCMT_cu</th>\n",
       "      <th>Duration_log</th>\n",
       "      <th>Heart_Rate_log</th>\n",
       "      <th>Body_Temp_log</th>\n",
       "      <th>Weight_log</th>\n",
       "      <th>Duration_x_Heart_Rate_log</th>\n",
       "      <th>is_temp_high</th>\n",
       "      <th>is_overweight</th>\n",
       "      <th>feno_var</th>\n",
       "    </tr>\n",
       "  </thead>\n",
       "  <tbody>\n",
       "    <tr>\n",
       "      <th>0</th>\n",
       "      <td>14733363</td>\n",
       "      <td>True</td>\n",
       "      <td>68.0</td>\n",
       "      <td>190.0</td>\n",
       "      <td>94.0</td>\n",
       "      <td>29.0</td>\n",
       "      <td>105.0</td>\n",
       "      <td>40.8</td>\n",
       "      <td>231.0</td>\n",
       "      <td>12920.0</td>\n",
       "      <td>...</td>\n",
       "      <td>4771.900970</td>\n",
       "      <td>329637.895921</td>\n",
       "      <td>3.401197</td>\n",
       "      <td>4.663439</td>\n",
       "      <td>3.732896</td>\n",
       "      <td>4.553877</td>\n",
       "      <td>8.021585</td>\n",
       "      <td>True</td>\n",
       "      <td>False</td>\n",
       "      <td>1262.9616</td>\n",
       "    </tr>\n",
       "    <tr>\n",
       "      <th>1</th>\n",
       "      <td>14861698</td>\n",
       "      <td>False</td>\n",
       "      <td>20.0</td>\n",
       "      <td>166.0</td>\n",
       "      <td>60.0</td>\n",
       "      <td>14.0</td>\n",
       "      <td>94.0</td>\n",
       "      <td>40.3</td>\n",
       "      <td>66.0</td>\n",
       "      <td>3320.0</td>\n",
       "      <td>...</td>\n",
       "      <td>2209.000000</td>\n",
       "      <td>103823.000000</td>\n",
       "      <td>2.708050</td>\n",
       "      <td>4.553877</td>\n",
       "      <td>3.720862</td>\n",
       "      <td>4.110874</td>\n",
       "      <td>7.183112</td>\n",
       "      <td>True</td>\n",
       "      <td>False</td>\n",
       "      <td>429.6964</td>\n",
       "    </tr>\n",
       "    <tr>\n",
       "      <th>2</th>\n",
       "      <td>11179863</td>\n",
       "      <td>True</td>\n",
       "      <td>69.0</td>\n",
       "      <td>179.0</td>\n",
       "      <td>79.0</td>\n",
       "      <td>5.0</td>\n",
       "      <td>88.0</td>\n",
       "      <td>38.7</td>\n",
       "      <td>26.0</td>\n",
       "      <td>12351.0</td>\n",
       "      <td>...</td>\n",
       "      <td>3396.342266</td>\n",
       "      <td>197932.529391</td>\n",
       "      <td>1.791759</td>\n",
       "      <td>4.488636</td>\n",
       "      <td>3.681351</td>\n",
       "      <td>4.382027</td>\n",
       "      <td>6.089045</td>\n",
       "      <td>False</td>\n",
       "      <td>False</td>\n",
       "      <td>150.2240</td>\n",
       "    </tr>\n",
       "    <tr>\n",
       "      <th>3</th>\n",
       "      <td>16180408</td>\n",
       "      <td>False</td>\n",
       "      <td>34.0</td>\n",
       "      <td>179.0</td>\n",
       "      <td>71.0</td>\n",
       "      <td>13.0</td>\n",
       "      <td>100.0</td>\n",
       "      <td>40.5</td>\n",
       "      <td>71.0</td>\n",
       "      <td>6086.0</td>\n",
       "      <td>...</td>\n",
       "      <td>2890.507573</td>\n",
       "      <td>155403.632964</td>\n",
       "      <td>2.639057</td>\n",
       "      <td>4.615121</td>\n",
       "      <td>3.725693</td>\n",
       "      <td>4.276666</td>\n",
       "      <td>7.170888</td>\n",
       "      <td>True</td>\n",
       "      <td>False</td>\n",
       "      <td>465.4143</td>\n",
       "    </tr>\n",
       "    <tr>\n",
       "      <th>4</th>\n",
       "      <td>17771927</td>\n",
       "      <td>False</td>\n",
       "      <td>27.0</td>\n",
       "      <td>154.0</td>\n",
       "      <td>58.0</td>\n",
       "      <td>10.0</td>\n",
       "      <td>81.0</td>\n",
       "      <td>39.8</td>\n",
       "      <td>35.0</td>\n",
       "      <td>4158.0</td>\n",
       "      <td>...</td>\n",
       "      <td>1761.389568</td>\n",
       "      <td>73923.603610</td>\n",
       "      <td>2.397895</td>\n",
       "      <td>4.406719</td>\n",
       "      <td>3.708682</td>\n",
       "      <td>4.077537</td>\n",
       "      <td>6.698268</td>\n",
       "      <td>True</td>\n",
       "      <td>False</td>\n",
       "      <td>251.4440</td>\n",
       "    </tr>\n",
       "  </tbody>\n",
       "</table>\n",
       "<p>5 rows × 141 columns</p>\n",
       "</div>"
      ],
      "text/plain": [
       "    User_ID  Gender   Age  Height  Weight  Duration  Heart_Rate  Body_Temp  \\\n",
       "0  14733363    True  68.0   190.0    94.0      29.0       105.0       40.8   \n",
       "1  14861698   False  20.0   166.0    60.0      14.0        94.0       40.3   \n",
       "2  11179863    True  69.0   179.0    79.0       5.0        88.0       38.7   \n",
       "3  16180408   False  34.0   179.0    71.0      13.0       100.0       40.5   \n",
       "4  17771927   False  27.0   154.0    58.0      10.0        81.0       39.8   \n",
       "\n",
       "   Calories  Age_x_Height  ...  Pct_FCMT_sq    Pct_FCMT_cu  Duration_log  \\\n",
       "0     231.0       12920.0  ...  4771.900970  329637.895921      3.401197   \n",
       "1      66.0        3320.0  ...  2209.000000  103823.000000      2.708050   \n",
       "2      26.0       12351.0  ...  3396.342266  197932.529391      1.791759   \n",
       "3      71.0        6086.0  ...  2890.507573  155403.632964      2.639057   \n",
       "4      35.0        4158.0  ...  1761.389568   73923.603610      2.397895   \n",
       "\n",
       "   Heart_Rate_log  Body_Temp_log  Weight_log  Duration_x_Heart_Rate_log  \\\n",
       "0        4.663439       3.732896    4.553877                   8.021585   \n",
       "1        4.553877       3.720862    4.110874                   7.183112   \n",
       "2        4.488636       3.681351    4.382027                   6.089045   \n",
       "3        4.615121       3.725693    4.276666                   7.170888   \n",
       "4        4.406719       3.708682    4.077537                   6.698268   \n",
       "\n",
       "   is_temp_high  is_overweight   feno_var  \n",
       "0          True          False  1262.9616  \n",
       "1          True          False   429.6964  \n",
       "2         False          False   150.2240  \n",
       "3          True          False   465.4143  \n",
       "4          True          False   251.4440  \n",
       "\n",
       "[5 rows x 141 columns]"
      ]
     },
     "execution_count": 3,
     "metadata": {},
     "output_type": "execute_result"
    }
   ],
   "source": [
    "df.head()"
   ]
  },
  {
   "cell_type": "code",
   "execution_count": 4,
   "id": "28a0003c-0a81-481b-bfeb-839b68240c6b",
   "metadata": {},
   "outputs": [
    {
     "name": "stdout",
     "output_type": "stream",
     "text": [
      "<class 'pandas.core.frame.DataFrame'>\n",
      "RangeIndex: 15000 entries, 0 to 14999\n",
      "Columns: 141 entries, User_ID to feno_var\n",
      "dtypes: bool(3), float64(137), int64(1)\n",
      "memory usage: 15.8 MB\n"
     ]
    }
   ],
   "source": [
    "df.info()"
   ]
  },
  {
   "cell_type": "code",
   "execution_count": 5,
   "id": "536744ad-72b3-461f-9600-64afffbd7be7",
   "metadata": {},
   "outputs": [],
   "source": [
    "integer_columns = df.select_dtypes(include=['int8', 'int32', 'int64']).columns"
   ]
  },
  {
   "cell_type": "code",
   "execution_count": 6,
   "id": "479429e6-7dd3-4b91-b947-01fab0b20829",
   "metadata": {},
   "outputs": [
    {
     "data": {
      "text/plain": [
       "Index(['User_ID'], dtype='object')"
      ]
     },
     "execution_count": 6,
     "metadata": {},
     "output_type": "execute_result"
    }
   ],
   "source": [
    "integer_columns"
   ]
  },
  {
   "cell_type": "code",
   "execution_count": 7,
   "id": "1ad01db4-ea4a-41c2-a230-8da3b5f7e1b7",
   "metadata": {},
   "outputs": [],
   "source": [
    "TARGET = \"Calories\"\n",
    "ID_COLUMN = \"User_ID\"\n",
    "FEATURES = [col for col in df.columns if col not in [TARGET, ID_COLUMN]]\n",
    "y = df[TARGET]\n",
    "X = df[FEATURES]"
   ]
  },
  {
   "cell_type": "code",
   "execution_count": 8,
   "id": "8534ed96-2f5c-458c-b6fe-4e2a3abc2c4a",
   "metadata": {},
   "outputs": [
    {
     "data": {
      "text/plain": [
       "(15000, 139)"
      ]
     },
     "execution_count": 8,
     "metadata": {},
     "output_type": "execute_result"
    }
   ],
   "source": [
    "X.shape"
   ]
  },
  {
   "cell_type": "markdown",
   "id": "604e355a-5100-40bf-b0e9-7812c5dfbdc8",
   "metadata": {},
   "source": [
    "## Pasos para los modelos base\n",
    "\n",
    "El objetivo es entrenar rapidamente varios modelos con sus configuraciones por defecto para tener un rendimiento base a traves de lo siguiente:\n",
    "\n",
    "- **Modelos a probar**: Ridge, Lasso, HistGradientBoostingRegressor, XGBoost y LightGBM.\n",
    "- **Validación:** Usaremos una **Validación Cruzada de 10-Folds** para asegurar que nuestras métricas sean estables y no dependan de una única partición de datos.\n",
    "- **Métricas:** Evaluaremos con RMSE, MAE, etc.\n",
    "- **Seguimiento de Experimentos:** Utilizaremos **MLflow** para registrar los parámetros, métricas y artefactos de cada modelo, lo que nos permitirá comparar los resultados de manera organizada."
   ]
  },
  {
   "cell_type": "code",
   "execution_count": 9,
   "id": "cfa374e6-59bd-48d8-abc7-811505b82b99",
   "metadata": {},
   "outputs": [
    {
     "name": "stderr",
     "output_type": "stream",
     "text": [
      "2025/06/20 11:19:20 INFO mlflow.tracking.fluent: Experiment with name 'baseline_models' does not exist. Creating a new experiment.\n"
     ]
    },
    {
     "name": "stdout",
     "output_type": "stream",
     "text": [
      "--- Entrenando modelo: ridge ---\n",
      "Registrando métricas para ridge: {'val_rmse': np.float64(-4.8926), 'val_mae': np.float64(-2.8653), 'val_medae': np.float64(-1.4413)}\n",
      "--- Entrenando modelo: lasso ---\n",
      "Registrando métricas para lasso: {'val_rmse': np.float64(-67.8223), 'val_mae': np.float64(-53.8631), 'val_medae': np.float64(-44.9225)}\n",
      "--- Entrenando modelo: random_forest ---\n",
      "Registrando métricas para random_forest: {'val_rmse': np.float64(-1.2707), 'val_mae': np.float64(-0.7971), 'val_medae': np.float64(-0.5296)}\n",
      "--- Entrenando modelo: hgb ---\n",
      "Registrando métricas para hgb: {'val_rmse': np.float64(-1.3322), 'val_mae': np.float64(-0.8853), 'val_medae': np.float64(-0.6137)}\n",
      "--- Entrenando modelo: xgb ---\n",
      "Registrando métricas para xgb: {'val_rmse': np.float64(-1.4912), 'val_mae': np.float64(-1.0502), 'val_medae': np.float64(-0.7409)}\n",
      "--- Entrenando modelo: lgbm ---\n",
      "Registrando métricas para lgbm: {'val_rmse': np.float64(-1.2742), 'val_mae': np.float64(-0.8531), 'val_medae': np.float64(-0.5966)}\n",
      "--- Entrenando modelo: knn ---\n",
      "Registrando métricas para knn: {'val_rmse': np.float64(-5.3983), 'val_mae': np.float64(-3.6924), 'val_medae': np.float64(-2.5979)}\n"
     ]
    }
   ],
   "source": [
    "metrics_df = train_baselines_with_mlflow(X, y, transform_target=True, cv_splits=5)"
   ]
  },
  {
   "cell_type": "code",
   "execution_count": 10,
   "id": "7ac500cd-5cb0-4391-8e55-359248e48821",
   "metadata": {},
   "outputs": [
    {
     "data": {
      "text/html": [
       "<div>\n",
       "<style scoped>\n",
       "    .dataframe tbody tr th:only-of-type {\n",
       "        vertical-align: middle;\n",
       "    }\n",
       "\n",
       "    .dataframe tbody tr th {\n",
       "        vertical-align: top;\n",
       "    }\n",
       "\n",
       "    .dataframe thead th {\n",
       "        text-align: right;\n",
       "    }\n",
       "</style>\n",
       "<table border=\"1\" class=\"dataframe\">\n",
       "  <thead>\n",
       "    <tr style=\"text-align: right;\">\n",
       "      <th></th>\n",
       "      <th>model</th>\n",
       "      <th>rmse</th>\n",
       "      <th>mae</th>\n",
       "      <th>medae</th>\n",
       "    </tr>\n",
       "  </thead>\n",
       "  <tbody>\n",
       "    <tr>\n",
       "      <th>0</th>\n",
       "      <td>ridge</td>\n",
       "      <td>-4.8926</td>\n",
       "      <td>-2.8653</td>\n",
       "      <td>-1.4413</td>\n",
       "    </tr>\n",
       "    <tr>\n",
       "      <th>1</th>\n",
       "      <td>lasso</td>\n",
       "      <td>-67.8223</td>\n",
       "      <td>-53.8631</td>\n",
       "      <td>-44.9225</td>\n",
       "    </tr>\n",
       "    <tr>\n",
       "      <th>2</th>\n",
       "      <td>random_forest</td>\n",
       "      <td>-1.2707</td>\n",
       "      <td>-0.7971</td>\n",
       "      <td>-0.5296</td>\n",
       "    </tr>\n",
       "    <tr>\n",
       "      <th>3</th>\n",
       "      <td>hgb</td>\n",
       "      <td>-1.3322</td>\n",
       "      <td>-0.8853</td>\n",
       "      <td>-0.6137</td>\n",
       "    </tr>\n",
       "    <tr>\n",
       "      <th>4</th>\n",
       "      <td>xgb</td>\n",
       "      <td>-1.4912</td>\n",
       "      <td>-1.0502</td>\n",
       "      <td>-0.7409</td>\n",
       "    </tr>\n",
       "    <tr>\n",
       "      <th>5</th>\n",
       "      <td>lgbm</td>\n",
       "      <td>-1.2742</td>\n",
       "      <td>-0.8531</td>\n",
       "      <td>-0.5966</td>\n",
       "    </tr>\n",
       "    <tr>\n",
       "      <th>6</th>\n",
       "      <td>knn</td>\n",
       "      <td>-5.3983</td>\n",
       "      <td>-3.6924</td>\n",
       "      <td>-2.5979</td>\n",
       "    </tr>\n",
       "  </tbody>\n",
       "</table>\n",
       "</div>"
      ],
      "text/plain": [
       "           model     rmse      mae    medae\n",
       "0          ridge  -4.8926  -2.8653  -1.4413\n",
       "1          lasso -67.8223 -53.8631 -44.9225\n",
       "2  random_forest  -1.2707  -0.7971  -0.5296\n",
       "3            hgb  -1.3322  -0.8853  -0.6137\n",
       "4            xgb  -1.4912  -1.0502  -0.7409\n",
       "5           lgbm  -1.2742  -0.8531  -0.5966\n",
       "6            knn  -5.3983  -3.6924  -2.5979"
      ]
     },
     "execution_count": 10,
     "metadata": {},
     "output_type": "execute_result"
    }
   ],
   "source": [
    "metrics_df"
   ]
  },
  {
   "cell_type": "code",
   "execution_count": 11,
   "id": "35d24c59-1bf8-4ee7-a603-e5fcd681c31b",
   "metadata": {},
   "outputs": [],
   "source": [
    "metrics_df.to_csv(\"../reports/baseline_metrics.csv\", index=False)"
   ]
  }
 ],
 "metadata": {
  "kernelspec": {
   "display_name": "Python 3 (ipykernel)",
   "language": "python",
   "name": "python3"
  },
  "language_info": {
   "codemirror_mode": {
    "name": "ipython",
    "version": 3
   },
   "file_extension": ".py",
   "mimetype": "text/x-python",
   "name": "python",
   "nbconvert_exporter": "python",
   "pygments_lexer": "ipython3",
   "version": "3.11.13"
  }
 },
 "nbformat": 4,
 "nbformat_minor": 5
}
